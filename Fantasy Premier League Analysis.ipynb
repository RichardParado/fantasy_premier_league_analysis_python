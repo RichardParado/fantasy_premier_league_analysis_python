{
 "cells": [
  {
   "cell_type": "markdown",
   "id": "f1cb6700-de09-4361-b420-26a0eaad279a",
   "metadata": {},
   "source": [
    "# Fantasy Premier League Analysis"
   ]
  },
  {
   "cell_type": "code",
   "execution_count": null,
   "id": "bf9ed648-0aec-45eb-a1e7-bbb5a0164677",
   "metadata": {},
   "outputs": [],
   "source": []
  }
 ],
 "metadata": {
  "kernelspec": {
   "display_name": "Python 3 (ipykernel)",
   "language": "python",
   "name": "python3"
  },
  "language_info": {
   "codemirror_mode": {
    "name": "ipython",
    "version": 3
   },
   "file_extension": ".py",
   "mimetype": "text/x-python",
   "name": "python",
   "nbconvert_exporter": "python",
   "pygments_lexer": "ipython3",
   "version": "3.8.10"
  }
 },
 "nbformat": 4,
 "nbformat_minor": 5
}
